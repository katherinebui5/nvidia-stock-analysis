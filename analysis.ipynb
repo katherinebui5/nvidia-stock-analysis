{
 "cells": [
  {
   "cell_type": "markdown",
   "metadata": {},
   "source": [
    "# NVIDIA Stock Analysis\n",
    "\n",
    "This notebook analyzes NVIDIA’s 10-year stock performance vs. competitors and the S&P 500."
   ]
  },
  {
   "cell_type": "code",
   "execution_count": null,
   "metadata": {},
   "outputs": [],
   "source": [
    "import pandas as pd\n",
    "import matplotlib.pyplot as plt\n",
    "import seaborn as sns\n",
    "\n",
    "# Load stock data\n",
    "df = pd.read_csv(\"stock_data.csv\", index_col=0, parse_dates=True)\n",
    "df.head()"
   ]
  },
  {
   "cell_type": "markdown",
   "metadata": {},
   "source": [
    "### 📈 Plot Stock Performance"
   ]
  },
  {
   "cell_type": "code",
   "execution_count": null,
   "metadata": {},
   "outputs": [],
   "source": [
    "plt.figure(figsize=(12,6))\n",
    "for col in df.columns:\n",
    "    plt.plot(df.index, df[col], label=col)\n",
    "\n",
    "plt.title(\"10-Year Stock Performance: NVIDIA vs Competitors\")\n",
    "plt.xlabel(\"Date\")\n",
    "plt.ylabel(\"Adjusted Closing Price (USD)\")\n",
    "plt.legend()\n",
    "plt.show()"
   ]
  }
 ],
 "metadata": {
  "kernelspec": {
   "display_name": "Python 3",
   "language": "python",
   "name": "python3"
  },
  "language_info": {
   "name": "python",
   "version": "3.9"
  }
 },
 "nbformat": 4,
 "nbformat_minor": 5
}
